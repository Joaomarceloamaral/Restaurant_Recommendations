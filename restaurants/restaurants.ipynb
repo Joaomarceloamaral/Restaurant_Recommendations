{
 "cells": [
  {
   "cell_type": "code",
   "execution_count": 223,
   "metadata": {},
   "outputs": [],
   "source": [
    "import pandas as pd"
   ]
  },
  {
   "cell_type": "markdown",
   "metadata": {},
   "source": [
    "# CONTEXT DATAFRAME"
   ]
  },
  {
   "cell_type": "code",
   "execution_count": 224,
   "metadata": {},
   "outputs": [],
   "source": [
    "context_names = [\"interaction_id\", \"context_location\", \"context_time_of_day\", \"context_weather\"]"
   ]
  },
  {
   "cell_type": "code",
   "execution_count": 225,
   "metadata": {},
   "outputs": [
    {
     "name": "stdout",
     "output_type": "stream",
     "text": [
      "   interaction_id       location time_of_day weather\n",
      "0               1        Chicago     Evening   Sunny\n",
      "1               2        Houston       Night   Rainy\n",
      "2               3       New York     Evening   Snowy\n",
      "3               4  San Francisco   Afternoon   Sunny\n",
      "4               5        Chicago     Evening   Sunny\n"
     ]
    }
   ],
   "source": [
    "context_df = pd.read_csv(r'data\\context.csv')\n",
    "print(context_df.head())"
   ]
  },
  {
   "cell_type": "code",
   "execution_count": 226,
   "metadata": {},
   "outputs": [],
   "source": [
    "context_df.columns = context_names"
   ]
  },
  {
   "cell_type": "code",
   "execution_count": 227,
   "metadata": {},
   "outputs": [
    {
     "name": "stdout",
     "output_type": "stream",
     "text": [
      "interaction_id         0\n",
      "context_location       0\n",
      "context_time_of_day    0\n",
      "context_weather        0\n",
      "dtype: int64\n",
      "(10000, 4)\n"
     ]
    }
   ],
   "source": [
    "print(context_df.isnull().sum())\n",
    "print(context_df.shape)"
   ]
  },
  {
   "cell_type": "markdown",
   "metadata": {},
   "source": [
    "# INTERACTIONS DATAFRAME"
   ]
  },
  {
   "cell_type": "code",
   "execution_count": 228,
   "metadata": {},
   "outputs": [],
   "source": [
    "interaction_names = [\"user_id\", \"restaurant_id\", \"interaction_type\", \"interaction_timestamp\"]"
   ]
  },
  {
   "cell_type": "code",
   "execution_count": 229,
   "metadata": {},
   "outputs": [
    {
     "name": "stdout",
     "output_type": "stream",
     "text": [
      "   user_id  restaurant_id interaction_type            timestamp\n",
      "0      314            409             like  2024-01-04 10:43:00\n",
      "1      869            424            click  2024-01-05 03:46:00\n",
      "2      368             32            click  2024-01-06 09:12:00\n",
      "3      429            472            visit  2024-01-04 11:11:00\n",
      "4      830             28             like  2024-01-03 15:21:00\n"
     ]
    }
   ],
   "source": [
    "interactions_df = pd.read_csv(r'data\\interactions.csv')\n",
    "print(interactions_df.head())"
   ]
  },
  {
   "cell_type": "code",
   "execution_count": 230,
   "metadata": {},
   "outputs": [],
   "source": [
    "interactions_df.columns = interaction_names"
   ]
  },
  {
   "cell_type": "code",
   "execution_count": 231,
   "metadata": {},
   "outputs": [
    {
     "name": "stdout",
     "output_type": "stream",
     "text": [
      "user_id                  0\n",
      "restaurant_id            0\n",
      "interaction_type         0\n",
      "interaction_timestamp    0\n",
      "dtype: int64\n",
      "(10000, 4)\n"
     ]
    }
   ],
   "source": [
    "print(interactions_df.isnull().sum())\n",
    "print(interactions_df.shape)"
   ]
  },
  {
   "cell_type": "code",
   "execution_count": 232,
   "metadata": {},
   "outputs": [
    {
     "name": "stdout",
     "output_type": "stream",
     "text": [
      "   user_id  restaurant_id interaction_type interaction_timestamp  \\\n",
      "0      314            409             like   2024-01-04 10:43:00   \n",
      "1      869            424            click   2024-01-05 03:46:00   \n",
      "2      368             32            click   2024-01-06 09:12:00   \n",
      "3      429            472            visit   2024-01-04 11:11:00   \n",
      "4      830             28             like   2024-01-03 15:21:00   \n",
      "\n",
      "   interaction_id  \n",
      "0               1  \n",
      "1               2  \n",
      "2               3  \n",
      "3               4  \n",
      "4               5  \n"
     ]
    }
   ],
   "source": [
    "interaction_id_list = []\n",
    "\n",
    "for i in range(len(interactions_df[\"restaurant_id\"])):\n",
    "    interaction_id_list.append(i+1)\n",
    "\n",
    "interactions_df[\"interaction_id\"] = interaction_id_list\n",
    "print(interactions_df.head())"
   ]
  },
  {
   "cell_type": "code",
   "execution_count": 233,
   "metadata": {},
   "outputs": [
    {
     "name": "stdout",
     "output_type": "stream",
     "text": [
      "      interaction_id context_location context_time_of_day context_weather  \\\n",
      "0                  1          Chicago             Evening           Sunny   \n",
      "1                  2          Houston               Night           Rainy   \n",
      "2                  3         New York             Evening           Snowy   \n",
      "3                  4    San Francisco           Afternoon           Sunny   \n",
      "4                  5          Chicago             Evening           Sunny   \n",
      "...              ...              ...                 ...             ...   \n",
      "9995            9996          Houston           Afternoon          Cloudy   \n",
      "9996            9997    San Francisco             Morning           Sunny   \n",
      "9997            9998      Los Angeles             Morning           Rainy   \n",
      "9998            9999          Chicago             Morning           Snowy   \n",
      "9999           10000          Chicago           Afternoon           Rainy   \n",
      "\n",
      "      user_id  restaurant_id interaction_type interaction_timestamp  \n",
      "0         314            409             like   2024-01-04 10:43:00  \n",
      "1         869            424            click   2024-01-05 03:46:00  \n",
      "2         368             32            click   2024-01-06 09:12:00  \n",
      "3         429            472            visit   2024-01-04 11:11:00  \n",
      "4         830             28             like   2024-01-03 15:21:00  \n",
      "...       ...            ...              ...                   ...  \n",
      "9995      767            180           review   2024-01-02 16:19:00  \n",
      "9996      950            421             like   2024-01-07 16:08:00  \n",
      "9997       11             48            click   2024-01-05 05:17:00  \n",
      "9998      949             87            visit   2024-01-06 07:57:00  \n",
      "9999        8            385           review   2024-01-01 15:38:00  \n",
      "\n",
      "[10000 rows x 8 columns]\n"
     ]
    }
   ],
   "source": [
    "#Inner Join:\n",
    "final_df = pd.merge(context_df, interactions_df, on='interaction_id', how='inner')\n",
    "print(final_df)"
   ]
  },
  {
   "cell_type": "markdown",
   "metadata": {},
   "source": [
    "# RESTAURANTS DATAFRAME"
   ]
  },
  {
   "cell_type": "code",
   "execution_count": 234,
   "metadata": {},
   "outputs": [],
   "source": [
    "restaurant_names = [\"restaurant_id\", \"restaurant_name\", \"restaurant_cuisine\", \"restaurant_rating\", \"restaurant_price_range\", \"restaurant_location\"]"
   ]
  },
  {
   "cell_type": "code",
   "execution_count": 235,
   "metadata": {},
   "outputs": [
    {
     "name": "stdout",
     "output_type": "stream",
     "text": [
      "   restaurant_id                      name   cuisine  rating price_range  \\\n",
      "0              1   Banks, Flynn and Joseph   Mexican     2.7          $$   \n",
      "1              2  Garza, Melton and Powell   Mexican     4.4          $$   \n",
      "2              3             Frederick PLC  Japanese     3.5           $   \n",
      "3              4  Sullivan, Gray and Price      Thai     4.4           $   \n",
      "4              5           Hurst-Frederick  Japanese     4.8          $$   \n",
      "\n",
      "      location  \n",
      "0      Chicago  \n",
      "1  Los Angeles  \n",
      "2  Los Angeles  \n",
      "3      Chicago  \n",
      "4  Los Angeles  \n"
     ]
    }
   ],
   "source": [
    "restaurants_df = pd.read_csv(r'data\\restaurants.csv')\n",
    "print(restaurants_df.head())"
   ]
  },
  {
   "cell_type": "code",
   "execution_count": 236,
   "metadata": {},
   "outputs": [],
   "source": [
    "restaurants_df.columns = restaurant_names"
   ]
  },
  {
   "cell_type": "code",
   "execution_count": 237,
   "metadata": {},
   "outputs": [
    {
     "name": "stdout",
     "output_type": "stream",
     "text": [
      "restaurant_id             0\n",
      "restaurant_name           0\n",
      "restaurant_cuisine        0\n",
      "restaurant_rating         0\n",
      "restaurant_price_range    0\n",
      "restaurant_location       0\n",
      "dtype: int64\n",
      "(500, 6)\n"
     ]
    }
   ],
   "source": [
    "print(restaurants_df.isnull().sum())\n",
    "print(restaurants_df.shape)"
   ]
  },
  {
   "cell_type": "code",
   "execution_count": 238,
   "metadata": {},
   "outputs": [
    {
     "name": "stdout",
     "output_type": "stream",
     "text": [
      "(10000, 13)\n"
     ]
    }
   ],
   "source": [
    "#Inner Join:\n",
    "final_df = pd.merge(final_df, restaurants_df, on='restaurant_id', how='inner')\n",
    "print(final_df.shape)"
   ]
  },
  {
   "cell_type": "code",
   "execution_count": null,
   "metadata": {},
   "outputs": [
    {
     "data": {
      "text/plain": [
       "Index(['interaction_id', 'context_location', 'context_time_of_day',\n",
       "       'context_weather', 'user_id', 'restaurant_id', 'interaction_type',\n",
       "       'interaction_timestamp', 'restaurant_name', 'restaurant_cuisine',\n",
       "       'restaurant_rating', 'restaurant_price_range', 'restaurant_location'],\n",
       "      dtype='object')"
      ]
     },
     "execution_count": 239,
     "metadata": {},
     "output_type": "execute_result"
    }
   ],
   "source": [
    "print(final_df.columns)"
   ]
  },
  {
   "cell_type": "markdown",
   "metadata": {},
   "source": [
    "# USERS DATAFRAME"
   ]
  },
  {
   "cell_type": "code",
   "execution_count": 240,
   "metadata": {},
   "outputs": [],
   "source": [
    "user_names = [\"user_id\", \"user_age\", \"user_gender\", \"user_preferred_cuisine\"]"
   ]
  },
  {
   "cell_type": "code",
   "execution_count": 241,
   "metadata": {},
   "outputs": [
    {
     "name": "stdout",
     "output_type": "stream",
     "text": [
      "   user_id  age  gender preferred_cuisine\n",
      "0        1   56    Male            Indian\n",
      "1        2   46   Other           Chinese\n",
      "2        3   32    Male            French\n",
      "3        4   25  Female           Mexican\n",
      "4        5   38   Other              Thai\n"
     ]
    }
   ],
   "source": [
    "users_df = pd.read_csv(r\"data\\users.csv\")\n",
    "print(users_df.head())"
   ]
  },
  {
   "cell_type": "code",
   "execution_count": 242,
   "metadata": {},
   "outputs": [],
   "source": [
    "users_df.columns = user_names"
   ]
  },
  {
   "cell_type": "code",
   "execution_count": 243,
   "metadata": {},
   "outputs": [
    {
     "name": "stdout",
     "output_type": "stream",
     "text": [
      "user_id                   0\n",
      "user_age                  0\n",
      "user_gender               0\n",
      "user_preferred_cuisine    0\n",
      "dtype: int64\n",
      "(1000, 4)\n"
     ]
    }
   ],
   "source": [
    "print(users_df.isnull().sum())\n",
    "print(users_df.shape)"
   ]
  },
  {
   "cell_type": "code",
   "execution_count": 244,
   "metadata": {},
   "outputs": [
    {
     "name": "stdout",
     "output_type": "stream",
     "text": [
      "Index(['interaction_id', 'context_location', 'context_time_of_day',\n",
      "       'context_weather', 'user_id', 'restaurant_id', 'interaction_type',\n",
      "       'interaction_timestamp', 'restaurant_name', 'restaurant_cuisine',\n",
      "       'restaurant_rating', 'restaurant_price_range', 'restaurant_location',\n",
      "       'user_age', 'user_gender', 'user_preferred_cuisine'],\n",
      "      dtype='object')\n",
      "(10000, 16)\n"
     ]
    }
   ],
   "source": [
    "final_df = pd.merge(final_df, users_df, on=\"user_id\", how=\"inner\")\n",
    "print(final_df.columns)\n",
    "print(final_df.shape)"
   ]
  },
  {
   "cell_type": "code",
   "execution_count": 245,
   "metadata": {},
   "outputs": [
    {
     "name": "stdout",
     "output_type": "stream",
     "text": [
      "interaction_id            0\n",
      "context_location          0\n",
      "context_time_of_day       0\n",
      "context_weather           0\n",
      "user_id                   0\n",
      "restaurant_id             0\n",
      "interaction_type          0\n",
      "interaction_timestamp     0\n",
      "restaurant_name           0\n",
      "restaurant_cuisine        0\n",
      "restaurant_rating         0\n",
      "restaurant_price_range    0\n",
      "restaurant_location       0\n",
      "user_age                  0\n",
      "user_gender               0\n",
      "user_preferred_cuisine    0\n",
      "dtype: int64\n"
     ]
    }
   ],
   "source": [
    "print(final_df.isnull().sum())"
   ]
  },
  {
   "cell_type": "code",
   "execution_count": null,
   "metadata": {},
   "outputs": [],
   "source": []
  }
 ],
 "metadata": {
  "kernelspec": {
   "display_name": "venv",
   "language": "python",
   "name": "python3"
  },
  "language_info": {
   "codemirror_mode": {
    "name": "ipython",
    "version": 3
   },
   "file_extension": ".py",
   "mimetype": "text/x-python",
   "name": "python",
   "nbconvert_exporter": "python",
   "pygments_lexer": "ipython3",
   "version": "3.12.4"
  }
 },
 "nbformat": 4,
 "nbformat_minor": 2
}
